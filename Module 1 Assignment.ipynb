{
 "cells": [
  {
   "cell_type": "markdown",
   "id": "79e5f26a-1a2b-40d2-9625-5b77e47dfb81",
   "metadata": {},
   "source": [
    "### 1.Explain the different types of data (qualitative and quantitative) and provide examples of each. Discuss nominal, ordinal, interval, and ratio scales"
   ]
  },
  {
   "cell_type": "markdown",
   "id": "c97bc884-ef87-41a8-adef-721f924df85c",
   "metadata": {},
   "source": [
    "Ans :- Different types of data are given below :\n",
    "1. Qualitative data : this type of data describes qualities or characteristics. It is non-numeric and often categorised based on attributes or properties\n",
    "   Examples : colour of cars in a parking lot etc.\n",
    "2. Quantitative data : This type of data is numerical and can be measured or counted.It is often used to quantify variables\n",
    "   Examples : Heights of students in a class or number of students in a class\n",
    "\n",
    "Nominal,ordinal, interval and ratio classes are explained below:-\n",
    "1. Nominal scale : This is the simplest scale of measurement. It categorizes data without any order or ranking.\n",
    "2. ordinal scale : This scale categorizes data with a meaningful order or ranking, but the intervals between the ranks are not equal\n",
    "3. Interval scale : This scale not only categorizes and orders data but also has equal intervals between values. However, it does not have a true zero point\n",
    "4. Ratio Scale: This scale has all the properties of an interval scale, but it also has a true zero point, allowing for the calculation of ratios"
   ]
  },
  {
   "cell_type": "markdown",
   "id": "e665b33a-4c33-4937-a71f-2718b1029100",
   "metadata": {},
   "source": [
    "### 2. What are the measures of central tendency, and when should you use each? Discuss the mean, median, and mode with examples and situations where each is appropriate."
   ]
  },
  {
   "cell_type": "markdown",
   "id": "4a8632b9-fefb-47ce-a401-0d0a332d7025",
   "metadata": {},
   "source": [
    "Ans : Measures of central tendency are statistical tools used to summarise a set of data by identifying the central point within the dataset. Each tools are used and has its unique applications and is appropriate in different situations\n",
    "\n",
    "1. Mean : The mean, often referred to as the average, is calculated by summing all the values in a dataset and dividing by the number of values\n",
    "2. Median : The median is the middle value in a dataset when the values are arranged in ascending or descending order\n",
    "3. Mode : The mode is the value that appears most frequently in a dataset. A dataset can have more than one mode"
   ]
  },
  {
   "cell_type": "markdown",
   "id": "f6cf331d-293d-4a40-9af7-c8bbb9cc45cc",
   "metadata": {},
   "source": [
    "### 3. Explain the concept of dispersion. How do variance and standard deviation measure the spread of data?"
   ]
  },
  {
   "cell_type": "markdown",
   "id": "dff90615-eaa4-4d19-b07b-aa5cb30537d9",
   "metadata": {},
   "source": [
    "Ans : Dispersion refers to the extent to which data points in a dataset are spread out or scattered. It provides insights into the variability or diversity within the data\n",
    "\n",
    "Variance and standard deviation measures the spread of data as follows\n",
    "1. Variance : Variance measures the average squared deviation of each data point from the mean. It gives an idea of how much the data points differ from the mean.\n",
    "2. Standard Deviations : Standard deviation is the square root of the variance. It provides a measure of the average distance of each data point from the mean, in the same units as the data."
   ]
  },
  {
   "cell_type": "markdown",
   "id": "fe8e80e4-f488-49d4-92a6-9915c679fea0",
   "metadata": {},
   "source": [
    "### 4. What is a box plot, and what can it tell you about the distribution of data"
   ]
  },
  {
   "cell_type": "markdown",
   "id": "31cedde6-ab54-4538-8e1d-027910d9212e",
   "metadata": {},
   "source": [
    "Ans : A box plot, also known as a box-and-whisker plot, is a graphical representation of the distribution of a dataset. It provides a visual summary of the data's central tendency, variability, and skewness.\n",
    "\n",
    "Box plot reveals :\n",
    "1. Central Tendency\n",
    "2. Spread\n",
    "3. Skewness\n",
    "4. Outliers"
   ]
  },
  {
   "cell_type": "markdown",
   "id": "3b772014-ad7c-49a3-bc12-a28b2bda5597",
   "metadata": {},
   "source": [
    "### 5. Discuss the role of random sampling in making inferences about populations"
   ]
  },
  {
   "cell_type": "markdown",
   "id": "0f76638b-4d89-468a-91d7-3b73ab2ce949",
   "metadata": {},
   "source": [
    "Ans : The Role of Random Sampling are :\n",
    "1. Representativeness : Random sampling ensures that every member of the population has an equal chance of being selected\n",
    "2. Generalization: By analyzing the sample, statisticians can make generalizations about the population\n",
    "3. Accuracy and Precision: Random sampling helps achieve accurate and precise estimates of population parameters"
   ]
  },
  {
   "cell_type": "markdown",
   "id": "c83cad6c-57f2-47df-ae4c-eae28e1958b3",
   "metadata": {},
   "source": [
    "### 6. Explain the concept of skewness and its types. How does skewness affect the interpretation of data?"
   ]
  },
  {
   "cell_type": "markdown",
   "id": "2c8c5e16-699b-4481-9b71-6f1b0fd4ccd9",
   "metadata": {},
   "source": [
    "Ans : Skewness is a measure of the asymmetry of the distribution of data. It indicates whether the data points are more concentrated on one side of the mean than the other. Skewness can be positive, negative, or zero, and it affects how we interpret the central tendency and spread of the data.\n",
    "\n",
    "Types of skewness are:\n",
    "1. Positive skewness : In a positively skewed distribution, the tail on the right side is longer or fatter than the left side.\n",
    "2. Negative skewness : In a negatively skewed distribution, the tail on the left side is longer or fatter than the right side.\n",
    "3. Zero Skewness : In a symmetrical distribution, the data points are evenly distributed on both sides of the mean.\n",
    "\n",
    "Central Tendancy affects data as follows : \n",
    "1. Central tendency : In skewed distributions, the mean is pulled in the direction of the skewness.\n",
    "2. Spread: Skewness affects the spread of the data. In positively skewed data, the spread is greater on the right side, while in negatively skewed data, the spread is greater on the left side\n",
    "3. Outliers: Skewness can indicate the presence of outliers. In positively skewed data, outliers are typically larger values, while in negatively skewed data, outliers are smaller values"
   ]
  },
  {
   "cell_type": "markdown",
   "id": "e7ed08e5-8f60-44b5-9b42-fe92d9a7b852",
   "metadata": {},
   "source": [
    "### 7.What is the interquartile range (IQR), and how is it used to detect outliers"
   ]
  },
  {
   "cell_type": "markdown",
   "id": "7f5f417f-7f12-459c-a69f-a8dc32da3bb5",
   "metadata": {},
   "source": [
    "Ans : The Interquartile Range (IQR) is a measure of statistical dispersion, which is the spread of the middle 50% of the data. It is calculated as the difference between the third quartile (Q3) and the first quartile (Q1)\n",
    "\n",
    "It is used to detect outliers as follows:\n",
    "Outliers are data points that fall significantly outside the range of the rest of the data. The IQR method identifies outliers as follows:\n",
    "1. Lower Bound: Q1 - 1.5 * IQR\n",
    "2. Upper Bound: Q3 + 1.5 * IQR\n",
    "\n",
    "Any data points outside these bounds are considered outliers."
   ]
  },
  {
   "cell_type": "markdown",
   "id": "f7793ded-f756-4e82-84b9-64ebe44239d1",
   "metadata": {},
   "source": [
    "###  8. Discuss the conditions under which the binomial distribution is used"
   ]
  },
  {
   "cell_type": "markdown",
   "id": "e01c6ba2-3a45-45df-8df6-132d0249dc1f",
   "metadata": {},
   "source": [
    "Ans : Conditions for Binomial Distribution\n",
    "\n",
    "1. Fixed Number of Trials : The experiment or process must consist of a fixed number of trials. Each trial is an opportunity for a success or failure.\n",
    "2. Two Possible Outcomes : Each trial must result in one of two possible outcomes, often labeled as \"success\" and \"failure.\"\n",
    "3. Constant Probability of Success : The probability of success must remain constant for each trial.\n",
    "4. Independence of Trials : Each trial must be independent of the others, meaning the outcome of one trial does not affect the outcome of another.\n"
   ]
  },
  {
   "cell_type": "markdown",
   "id": "eb3bd01a-63bf-41fa-95be-309028a920ae",
   "metadata": {},
   "source": [
    "### 9. Explain the properties of the normal distribution and the empirical rule (68-95-99.7 rule)"
   ]
  },
  {
   "cell_type": "markdown",
   "id": "7e91f665-610c-489f-9a46-b62630551d6d",
   "metadata": {},
   "source": [
    "Ans : Properties of the Normal Distribution\n",
    "\n",
    "1. Symmetry: The normal distribution is perfectly symmetrical around its mean. This means that the left and right halves of the distribution are mirror images of each other.\n",
    "2. Mean, Median, and Mode: In a normal distribution, the mean, median, and mode are all equal and located at the center of the distribution.\n",
    "3. Bell-Shaped Curve: The distribution forms a bell-shaped curve, with the highest point at the mean and the tails extending infinitely in both directions.\n",
    "4. Asymptotic: The tails of the normal distribution approach the horizontal axis but never touch it. This means that there is always a non-zero probability for any value, no matter how far from the mean.\n",
    "\n",
    "Empirical Rule (68-95-99.7 Rule): This rule describes the spread of data in a normal distribution:\n",
    "\n",
    "* 68% of the data falls within one standard deviation of the mean\n",
    "* 95% of the data falls within two standard deviations of the mean\n",
    "* 99.7% of the data falls within three standard deviations of the mean"
   ]
  },
  {
   "cell_type": "markdown",
   "id": "1f871539-1907-4e36-8fd2-75c3e17baa8a",
   "metadata": {},
   "source": [
    "### 10.Provide a real-life example of a Poisson process and calculate the probability for a specific event."
   ]
  },
  {
   "cell_type": "markdown",
   "id": "aeee43ad-b324-46ab-9594-21c5ddb39aec",
   "metadata": {},
   "source": [
    "Ans : Real-Life Example of a poisson process. \n",
    "Imagine a call center receives an average of 10 calls per hour. We can model the number of calls received in an hour using a Poisson distribution with λ = 10."
   ]
  },
  {
   "cell_type": "markdown",
   "id": "55b09f42-4b0b-47de-b831-4d2ea1c0ce63",
   "metadata": {},
   "source": [
    "### 11. Explain what a random variable is and differentiate between discrete and continuous random variables"
   ]
  },
  {
   "cell_type": "markdown",
   "id": "d2e3d08c-6f99-469d-a8ce-66541326f50d",
   "metadata": {},
   "source": [
    "Ans : A random variable is a numerical value that represents the outcome of a random phenomenon. It assigns a numerical value to each possible outcome in a sample space\n",
    "\n",
    "1. Discrete Random Variables : Discrete random variables take on a countable number of distinct values. These values are often whole numbers, and there are gaps between the possible values\n",
    "2. Continuous Random Variables : Continuous random variables take on an infinite number of possible values within a given range. These values are often measurements, and there are no gaps between the possible values."
   ]
  },
  {
   "cell_type": "markdown",
   "id": "0e4fc44b-ba59-4ef5-b8e0-9f467608d4a2",
   "metadata": {},
   "source": [
    "### 12.Provide an example dataset, calculate both covariance and correlation, and interpret the results"
   ]
  },
  {
   "cell_type": "code",
   "execution_count": 2,
   "id": "1159b8b8-abd4-4e91-b776-178eb246cf0f",
   "metadata": {},
   "outputs": [
    {
     "name": "stdout",
     "output_type": "stream",
     "text": [
      "Covariance: 62.5\n",
      "Correlation: 1.0\n"
     ]
    }
   ],
   "source": [
    "import numpy as np\n",
    "import pandas as pd\n",
    "\n",
    "data = {'Height': [160, 165, 170, 175, 180],\n",
    "        'Weight': [55, 60, 65, 70, 75]}\n",
    "\n",
    "# Create a DataFrame\n",
    "df = pd.DataFrame(data)\n",
    "\n",
    "# Calculate covariance\n",
    "covariance_matrix = np.cov(df['Height'], df['Weight'])\n",
    "covariance = covariance_matrix[0, 1]\n",
    "\n",
    "# Calculate correlation\n",
    "correlation_matrix = np.corrcoef(df['Height'], df['Weight'])\n",
    "correlation = correlation_matrix[0, 1]\n",
    "\n",
    "print(f\"Covariance: {covariance}\")\n",
    "print(f\"Correlation: {correlation}\")"
   ]
  },
  {
   "cell_type": "code",
   "execution_count": null,
   "id": "e62d13ca-59c6-4b93-a5a0-ea2a62b37768",
   "metadata": {},
   "outputs": [],
   "source": []
  }
 ],
 "metadata": {
  "kernelspec": {
   "display_name": "Python 3 (ipykernel)",
   "language": "python",
   "name": "python3"
  },
  "language_info": {
   "codemirror_mode": {
    "name": "ipython",
    "version": 3
   },
   "file_extension": ".py",
   "mimetype": "text/x-python",
   "name": "python",
   "nbconvert_exporter": "python",
   "pygments_lexer": "ipython3",
   "version": "3.12.7"
  }
 },
 "nbformat": 4,
 "nbformat_minor": 5
}
